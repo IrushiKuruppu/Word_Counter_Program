{
 "cells": [
  {
   "cell_type": "markdown",
   "id": "430e051b-296c-467a-9d31-6179e7d43b62",
   "metadata": {},
   "source": [
    "<H2> Word Counter Program </H2>"
   ]
  },
  {
   "cell_type": "markdown",
   "id": "a579b946-26e9-40af-bf78-8beef356e80a",
   "metadata": {},
   "source": [
    "<H4>Count The Words</H4>"
   ]
  },
  {
   "cell_type": "code",
   "execution_count": 3,
   "id": "29daf44e-b08b-4f4d-817e-a2c39a4ce7d3",
   "metadata": {},
   "outputs": [],
   "source": [
    "text = \"Developing writers can often benefit from examining an essay, a paragraph, or even a sentence to determine what makes it effective. On the following pages are several paragraphs for you to evaluate on your own, along with the Writing Center's explanation.Note: These passages are excerpted from actual student papers and retain the original wording. Some of the sentences are imperfect, but we have chosen these passages to highlight areas in which the author was successful.\""
   ]
  },
  {
   "cell_type": "code",
   "execution_count": 38,
   "id": "88d6aea4-a778-439d-b3a6-17dbcc43f7ab",
   "metadata": {},
   "outputs": [],
   "source": [
    "def word_counter(data):\n",
    "    words = data.split();\n",
    "    num_of_words = len(words)\n",
    "    return num_of_words"
   ]
  },
  {
   "cell_type": "code",
   "execution_count": 40,
   "id": "58d8bb3e-991e-4eba-9da1-243fd44536b4",
   "metadata": {},
   "outputs": [
    {
     "data": {
      "text/plain": [
       "75"
      ]
     },
     "execution_count": 40,
     "metadata": {},
     "output_type": "execute_result"
    }
   ],
   "source": [
    "count = word_counter(text);\n",
    "count"
   ]
  },
  {
   "cell_type": "code",
   "execution_count": null,
   "id": "e443de82-0862-48e2-a2f6-75f54151ed08",
   "metadata": {},
   "outputs": [],
   "source": [
    "word_counts = Counter(document)"
   ]
  },
  {
   "cell_type": "markdown",
   "id": "bdd58c79-510e-4c75-bec2-4ebe49cbac7f",
   "metadata": {},
   "source": [
    "<H4>Top 10 Most Common Words</H4>"
   ]
  },
  {
   "cell_type": "code",
   "execution_count": 48,
   "id": "b6851314-2f4e-4db1-8cd6-5a5b0c30df04",
   "metadata": {},
   "outputs": [],
   "source": [
    "from collections import Counter\n",
    "def common_words(data):\n",
    "    words = data.split();\n",
    "    num_of_words = len(words)\n",
    "    word_counts = Counter(words)\n",
    "    common_words_dict = {}\n",
    "    for word, count in word_counts.most_common(10):\n",
    "        common_words_dict.setdefault(word, count)\n",
    "    return common_words_dict"
   ]
  },
  {
   "cell_type": "code",
   "execution_count": 74,
   "id": "f547becf-6c6b-4c96-99b1-1f45921aec22",
   "metadata": {},
   "outputs": [
    {
     "data": {
      "text/plain": [
       "[('the', 5),\n",
       " ('to', 3),\n",
       " ('are', 3),\n",
       " ('from', 2),\n",
       " ('a', 2),\n",
       " ('passages', 2),\n",
       " ('Developing', 1),\n",
       " ('writers', 1),\n",
       " ('can', 1),\n",
       " ('often', 1)]"
      ]
     },
     "execution_count": 74,
     "metadata": {},
     "output_type": "execute_result"
    }
   ],
   "source": [
    "common_words_dict = common_words(text)\n",
    "words = sorted(common_words_dict.items(), key=lambda x: x[1], reverse=True)\n",
    "words"
   ]
  },
  {
   "cell_type": "code",
   "execution_count": null,
   "id": "4093fdb1-6a7c-4d78-a85f-8698b53dcc22",
   "metadata": {},
   "outputs": [],
   "source": []
  }
 ],
 "metadata": {
  "kernelspec": {
   "display_name": "Python 3 (ipykernel)",
   "language": "python",
   "name": "python3"
  },
  "language_info": {
   "codemirror_mode": {
    "name": "ipython",
    "version": 3
   },
   "file_extension": ".py",
   "mimetype": "text/x-python",
   "name": "python",
   "nbconvert_exporter": "python",
   "pygments_lexer": "ipython3",
   "version": "3.12.4"
  }
 },
 "nbformat": 4,
 "nbformat_minor": 5
}
